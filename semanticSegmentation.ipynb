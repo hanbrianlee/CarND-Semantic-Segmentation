{
 "cells": [
  {
   "cell_type": "code",
   "execution_count": 1,
   "metadata": {},
   "outputs": [
    {
     "name": "stderr",
     "output_type": "stream",
     "text": [
      "/home/dzmn27/miniconda2/envs/tf/lib/python3.6/site-packages/h5py/__init__.py:36: FutureWarning: Conversion of the second argument of issubdtype from `float` to `np.floating` is deprecated. In future, it will be treated as `np.float64 == np.dtype(float).type`.\n",
      "  from ._conv import register_converters as _register_converters\n"
     ]
    },
    {
     "name": "stdout",
     "output_type": "stream",
     "text": [
      "TensorFlow Version: 1.7.0\n",
      "Default GPU Device: /device:GPU:0\n"
     ]
    }
   ],
   "source": [
    "#!/usr/bin/env python3s\n",
    "import os.path\n",
    "import tensorflow as tf\n",
    "import helper\n",
    "import warnings\n",
    "from distutils.version import LooseVersion\n",
    "import project_tests as tests\n",
    "from tqdm import tqdm\n",
    "\n",
    "KEEP_PROB = 0.8 #lower value will help generalize more (but with fewer epochs, higher keep_prob creates more clearer segmentations)\n",
    "LEARNING_RATE = 0.0009 #high learning rate will cause overshooting and huge oscillations in loss. (i.e. even 0.009 - 10 times higher will completely ruin the training)\n",
    "IMAGE_SHAPE = (160, 576) #higher resolution will help segmenting in a more detailed fashion\n",
    "EPOCHS = 50\n",
    "BATCH_SIZE = 5 #with batch_size smaller, lower memory will be used as less number of images need to be loaded into memory, the training will go on in SGD fashion, and even with 1 epoch, the small batch size and SGD will make the training look like many epochs training if the trianing sets are somewhat similar (i.e. all roads and we're doing only 2 classes)\n",
    "NUM_CLASSES = 2 #the smaller the classes, the easier it is to segment using lower number of epochs and batch_size\n",
    "\n",
    "USE_L2_LOSS = False\n",
    "L2_LOSS_WEIGHT = 0.01\n",
    "\n",
    "# Check TensorFlow Version\n",
    "assert LooseVersion(tf.__version__) >= LooseVersion('1.0'), 'Please use TensorFlow version 1.0 or newer.  You are using {}'.format(tf.__version__)\n",
    "print('TensorFlow Version: {}'.format(tf.__version__))\n",
    "\n",
    "# Check for a GPU\n",
    "if not tf.test.gpu_device_name():\n",
    "    warnings.warn('No GPU found. Please use a GPU to train your neural network.')\n",
    "else:\n",
    "    print('Default GPU Device: {}'.format(tf.test.gpu_device_name()))\n",
    "\n"
   ]
  },
  {
   "cell_type": "code",
   "execution_count": 2,
   "metadata": {},
   "outputs": [
    {
     "name": "stdout",
     "output_type": "stream",
     "text": [
      "Tests Passed\n"
     ]
    }
   ],
   "source": [
    "def load_vgg(sess, vgg_path):\n",
    "    \"\"\"\n",
    "    Load Pretrained VGG Model into TensorFlow.\n",
    "    :param sess: TensorFlow Session\n",
    "    :param vgg_path: Path to vgg folder, containing \"variables/\" and \"saved_model.pb\"\n",
    "    :return: Tuple of Tensors from VGG model (image_input, keep_prob, layer3_out, layer4_out, layer7_out)\n",
    "    \"\"\"\n",
    "    # TODO: Implement function\n",
    "    #   Use tf.saved_model.loader.load to load the model and weights\n",
    "\n",
    "    \n",
    "    vgg_tag = 'vgg16'\n",
    "    vgg_input_tensor_name = 'image_input:0'\n",
    "    vgg_keep_prob_tensor_name = 'keep_prob:0'\n",
    "    vgg_layer3_out_tensor_name = 'layer3_out:0'\n",
    "    vgg_layer4_out_tensor_name = 'layer4_out:0'\n",
    "    vgg_layer7_out_tensor_name = 'layer7_out:0'\n",
    "    \n",
    "    #load the vgg model located at data/vgg16/vgg, this path is defined by vgg_path later\n",
    "    tf.saved_model.loader.load(sess, [vgg_tag], vgg_path)\n",
    "    #make sure to load the default graph from the loaded model before pulling tensors by name into storage variables\n",
    "    graph = tf.get_default_graph()\n",
    "    \n",
    "    input_image = graph.get_tensor_by_name(vgg_input_tensor_name)\n",
    "    keep_prob = graph.get_tensor_by_name(vgg_keep_prob_tensor_name)\n",
    "    layer3_out = graph.get_tensor_by_name(vgg_layer3_out_tensor_name)\n",
    "    layer4_out = graph.get_tensor_by_name(vgg_layer4_out_tensor_name)\n",
    "    layer7_out = graph.get_tensor_by_name(vgg_layer7_out_tensor_name)\n",
    "    \n",
    "#     a = tf.Print(layer7_out, [tf.shape(layer7_out)])\n",
    "#     with tf.Session() as sess:\n",
    "#         sess.run(a)\n",
    "    \n",
    "    return input_image, keep_prob, layer3_out, layer4_out, layer7_out\n",
    "tests.test_load_vgg(load_vgg, tf)\n"
   ]
  },
  {
   "cell_type": "code",
   "execution_count": 3,
   "metadata": {},
   "outputs": [
    {
     "name": "stdout",
     "output_type": "stream",
     "text": [
      "WARNING:tensorflow:From /home/dzmn27/miniconda2/envs/tf/lib/python3.6/site-packages/tensorflow/contrib/learn/python/learn/datasets/base.py:198: retry (from tensorflow.contrib.learn.python.learn.datasets.base) is deprecated and will be removed in a future version.\n",
      "Instructions for updating:\n",
      "Use the retry module or similar alternatives.\n",
      "Tests Passed\n"
     ]
    }
   ],
   "source": [
    "def layers(vgg_layer3_out, vgg_layer4_out, vgg_layer7_out, num_classes, sess=None, vgg_input=None, keep_prob=None):\n",
    "    \"\"\"\n",
    "    Create the layers for a fully convolutional network.  Build skip-layers using the vgg layers.\n",
    "    :param vgg_layer3_out: TF Tensor for VGG Layer 3 output\n",
    "    :param vgg_layer4_out: TF Tensor for VGG Layer 4 output\n",
    "    :param vgg_layer7_out: TF Tensor for VGG Layer 7 output\n",
    "    :param num_classes: Number of classes to classify\n",
    "    :return: The Tensor for the last layer of output\n",
    "    \"\"\"\n",
    "    # TODO: Implement function\n",
    "    #constructing FCN-8 architecture\n",
    "    \n",
    "    #reduce the number of outputs to match the num_classes in the training set (in this case 2, roads vs not roads) by using 1x1 convolution\n",
    "    conv_1x1 = tf.layers.conv2d(vgg_layer7_out, num_classes, 1, padding=\"same\", \n",
    "                                kernel_regularizer=tf.contrib.layers.l2_regularizer(1e-3))\n",
    "        \n",
    "    #upsample or deconv (from 1x1 to 2v2 just like in the FCN paper: https://people.eecs.berkeley.edu/~jonlong/long_shelhamer_fcn.pdf)\n",
    "    layer4a_in1 = tf.layers.conv2d_transpose(conv_1x1, num_classes, 4, 2, padding=\"same\", kernel_regularizer=tf.contrib.layers.l2_regularizer(1e-3))\n",
    "    \n",
    "    # make sure the shapes are the same!\n",
    "    # 1x1 convolution of vgg layer 4\n",
    "    layer4a_in2 = tf.layers.conv2d(vgg_layer4_out, num_classes, 1, \n",
    "                                   padding= 'same', \n",
    "                                   kernel_initializer= tf.random_normal_initializer(stddev=0.01), \n",
    "                                   kernel_regularizer= tf.contrib.layers.l2_regularizer(1e-3))\n",
    "    \n",
    "    # skip connection (element-wise addition)\n",
    "    layer4a_out = tf.add(layer4a_in1, layer4a_in2)\n",
    "    # upsample\n",
    "    layer3a_in1 = tf.layers.conv2d_transpose(layer4a_out, num_classes, 4,  \n",
    "                                             strides= (2, 2), \n",
    "                                             padding= 'same', \n",
    "                                             kernel_initializer= tf.random_normal_initializer(stddev=0.01), \n",
    "                                             kernel_regularizer= tf.contrib.layers.l2_regularizer(1e-3))\n",
    "    \n",
    "    # 1x1 convolution of vgg layer 3\n",
    "    layer3a_in2 = tf.layers.conv2d(vgg_layer3_out, num_classes, 1, \n",
    "                                   padding= 'same', \n",
    "                                   kernel_initializer= tf.random_normal_initializer(stddev=0.01), \n",
    "                                   kernel_regularizer= tf.contrib.layers.l2_regularizer(1e-3))\n",
    "    # skip connection (element-wise addition)\n",
    "    layer3a_out = tf.add(layer3a_in1, layer3a_in2)\n",
    "    # upsample\n",
    "    nn_last_layer = tf.layers.conv2d_transpose(layer3a_out, num_classes, 16,  \n",
    "                                               strides= (8, 8), \n",
    "                                               padding= 'same', \n",
    "                                               kernel_initializer= tf.random_normal_initializer(stddev=0.01), \n",
    "                                               kernel_regularizer= tf.contrib.layers.l2_regularizer(1e-3))\n",
    "    \n",
    "    #following are used for printing shapes of layers of interest - very useful.\n",
    "#     if sess is not None:\n",
    "#         img = np.random.rand(1, 160, 576, 3)\n",
    "#         prints = [\n",
    "#             tf.Print(conv_1x1, [tf.shape(conv_1x1), \" -------------------1x1conv  before deconv starts  -------------------\"],\n",
    "#                      summarize=4)]\n",
    "#         sess.run(tf.global_variables_initializer())\n",
    "#         sess.run(prints, feed_dict={vgg_input: img, keep_prob: 1.0})\n",
    "        \n",
    "#     if sess is not None:\n",
    "#         img2 = np.random.rand(1, 160, 576, 3)\n",
    "#         prints = [\n",
    "#             tf.Print(vgg_layer7_out, [tf.shape(vgg_layer7_out), \" ------------------- vgg_layer7_out -------------------\"],\n",
    "#                      summarize=4)]\n",
    "#         sess.run(tf.global_variables_initializer())\n",
    "#         sess.run(prints, feed_dict={vgg_input: img2, keep_prob: 1.0})\n",
    "    \n",
    "    return nn_last_layer\n",
    "tests.test_layers(layers)"
   ]
  },
  {
   "cell_type": "code",
   "execution_count": 4,
   "metadata": {},
   "outputs": [
    {
     "name": "stdout",
     "output_type": "stream",
     "text": [
      "WARNING:tensorflow:From <ipython-input-4-9996f6b6f301>:14: softmax_cross_entropy_with_logits (from tensorflow.python.ops.nn_ops) is deprecated and will be removed in a future version.\n",
      "Instructions for updating:\n",
      "\n",
      "Future major versions of TensorFlow will allow gradients to flow\n",
      "into the labels input on backprop by default.\n",
      "\n",
      "See tf.nn.softmax_cross_entropy_with_logits_v2.\n",
      "\n",
      "Tests Passed\n"
     ]
    }
   ],
   "source": [
    "def optimize(nn_last_layer, correct_label, learning_rate, num_classes):\n",
    "    \"\"\"\n",
    "    Build the TensorFLow loss and optimizer operations.\n",
    "    :param nn_last_layer: TF Tensor of the last layer in the neural network\n",
    "    :param correct_label: TF Placeholder for the correct label image\n",
    "    :param learning_rate: TF Placeholder for the learning rate\n",
    "    :param num_classes: Number of classes to classify\n",
    "    :return: Tuple of (logits, train_op, cross_entropy_loss)\n",
    "    \"\"\"\n",
    "    # make logits a 2D tensor where each row represents a pixel and each column a class\n",
    "    logits = tf.reshape(nn_last_layer, (-1, num_classes))\n",
    "    correct_label = tf.reshape(correct_label, (-1,num_classes))\n",
    "    # define loss function\n",
    "    cross_entropy_loss = tf.reduce_mean(tf.nn.softmax_cross_entropy_with_logits(logits= logits, labels= correct_label))\n",
    "    \n",
    "    if USE_L2_LOSS:\n",
    "        #adding L2 losses to apply to loss\n",
    "        reg_losses = tf.get_collection(tf.GraphKeys.REGULARIZATION_LOSSES) #collect all losses from every layer\n",
    "        reg_constant = L2_LOSS_WEIGHT  # Choose an appropriate one.\n",
    "        final_loss = cross_entropy_loss + reg_constant * sum(reg_losses)\n",
    "    \n",
    "    # define training operation\n",
    "    optimizer = tf.train.AdamOptimizer(learning_rate= learning_rate)\n",
    "    if USE_L2_LOSS:\n",
    "        train_op = optimizer.minimize(final_loss)\n",
    "    else:\n",
    "        train_op = optimizer.minimize(cross_entropy_loss)\n",
    "\n",
    "    return logits, train_op, cross_entropy_loss\n",
    "tests.test_optimize(optimize)"
   ]
  },
  {
   "cell_type": "code",
   "execution_count": 5,
   "metadata": {},
   "outputs": [
    {
     "name": "stdout",
     "output_type": "stream",
     "text": [
      "INFO:tensorflow:Restoring parameters from b'./data/vgg16/vgg/variables/variables'\n"
     ]
    }
   ],
   "source": [
    "def train_nn(sess, epochs, batch_size, get_batches_fn, train_op, cross_entropy_loss, input_image,\n",
    "             correct_label, keep_prob, learning_rate):\n",
    "    \"\"\"\n",
    "    Train neural network and print out the loss during training.\n",
    "    :param sess: TF Session\n",
    "    :param epochs: Number of epochs\n",
    "    :param batch_size: Batch size\n",
    "    :param get_batches_fn: Function to get batches of training data.  Call using get_batches_fn(batch_size)\n",
    "    :param train_op: TF Operation to train the neural network\n",
    "    :param cross_entropy_loss: TF Tensor for the amount of loss\n",
    "    :param input_image: TF Placeholder for input images\n",
    "    :param correct_label: TF Placeholder for label images\n",
    "    :param keep_prob: TF Placeholder for dropout keep probability\n",
    "    :param learning_rate: TF Placeholder for learning rate\n",
    "    \"\"\"\n",
    "    # TODO: Implement function\n",
    "    sess.run(tf.global_variables_initializer())\n",
    "    \n",
    "    print(\"Training...\")\n",
    "    print()\n",
    "    for i in range(epochs):\n",
    "        print(\"EPOCH {} ...\".format(i+1))\n",
    "        for image, label in get_batches_fn(batch_size):\n",
    "            _, loss = sess.run([train_op, cross_entropy_loss], \n",
    "                               feed_dict={input_image: image, correct_label: label, keep_prob: KEEP_PROB, learning_rate:LEARNING_RATE})\n",
    "            print(\"Loss: = {:.3f}\".format(loss))\n",
    "        print()\n",
    "tests.test_train_nn(train_nn)"
   ]
  },
  {
   "cell_type": "code",
   "execution_count": 6,
   "metadata": {},
   "outputs": [],
   "source": [
    "\n",
    "\n",
    "num_classes = NUM_CLASSES\n",
    "image_shape = IMAGE_SHAPE\n",
    "data_dir = './data'\n",
    "runs_dir = './runs'\n",
    "tests.test_for_kitti_dataset(data_dir)\n",
    "\n",
    "# Download pretrained vgg model\n",
    "#helper.maybe_download_pretrained_vgg(data_dir)\n",
    "\n",
    "# OPTIONAL: Train and Inference on the cityscapes dataset instead of the Kitti dataset.\n",
    "# You'll need a GPU with at least 10 teraFLOPS to train on.\n",
    "#  https://www.cityscapes-dataset.com/"
   ]
  },
  {
   "cell_type": "code",
   "execution_count": null,
   "metadata": {},
   "outputs": [],
   "source": [
    "import numpy as np\n",
    "\n",
    "sess = tf.InteractiveSession() #use interactive session so running on test images can be done on a separate cell if desired\n",
    "# Path to vgg model\n",
    "vgg_path = os.path.join(data_dir, 'vgg16/vgg')\n",
    "# Create function to get batches\n",
    "get_batches_fn = helper.gen_batch_function(os.path.join(data_dir, 'data_road/training'), image_shape)\n",
    "\n",
    "# OPTIONAL: Augment Images for better results\n",
    "#  https://datascience.stackexchange.com/questions/5224/how-to-prepare-augment-images-for-neural-network\n",
    "\n",
    "# TODO: Build NN using load_vgg, layers, and optimize function\n",
    "\n",
    "# TODO: Train NN using the train_nn function\n",
    "\n",
    "# TODO: Save inference data using helper.save_inference_samples\n",
    "#  helper.save_inference_samples(runs_dir, data_dir, sess, image_shape, logits, keep_prob, input_image)\n",
    "\n",
    "# OPTIONAL: Apply the trained model to a video\n",
    "\n",
    "\n",
    "epochs = EPOCHS\n",
    "batch_size = BATCH_SIZE\n",
    "\n",
    "# TF placeholders\n",
    "correct_label = tf.placeholder(tf.int32, [None, None, None, num_classes], name='correct_label')\n",
    "learning_rate = tf.placeholder(tf.float32, name='learning_rate')\n",
    "\n",
    "input_image, keep_prob, vgg_layer3_out, vgg_layer4_out, vgg_layer7_out = load_vgg(sess, vgg_path)\n",
    "#sess.run(tf.Print(vgg_layer7_out, [tf.shape(vgg_layer7_out)]))\n",
    "\n",
    "#nn_last_layer = layers(vgg_layer3_out, vgg_layer4_out, vgg_layer7_out, num_classes)\n",
    "nn_last_layer = layers(vgg_layer3_out, vgg_layer4_out, vgg_layer7_out, num_classes,\n",
    "                           sess=sess, vgg_input=input_image, keep_prob=keep_prob)\n",
    "\n",
    "logits, train_op, cross_entropy_loss = optimize(nn_last_layer, correct_label, learning_rate, num_classes)\n",
    "\n",
    "# TODO: Train NN using the train_nn function\n",
    "\n",
    "train_nn(sess, epochs, batch_size, get_batches_fn, train_op, cross_entropy_loss, input_image,\n",
    "     correct_label, keep_prob, learning_rate)\n",
    "\n",
    "# TODO: Save inference data using helper.save_inference_samples\n",
    "#helper.save_inference_samples(runs_dir, data_dir, sess, image_shape, logits, keep_prob, input_image)\n",
    "\n",
    "# OPTIONAL: Apply the trained model to a video\n"
   ]
  },
  {
   "cell_type": "code",
   "execution_count": null,
   "metadata": {},
   "outputs": [],
   "source": [
    "# TODO: Save inference data using helper.save_inference_samples\n",
    "helper.save_inference_samples(runs_dir, data_dir, sess, image_shape, logits, keep_prob, input_image)\n",
    "print(\"running on images - done\")"
   ]
  },
  {
   "cell_type": "code",
   "execution_count": null,
   "metadata": {},
   "outputs": [],
   "source": []
  }
 ],
 "metadata": {
  "kernelspec": {
   "display_name": "Python 3",
   "language": "python",
   "name": "python3"
  },
  "language_info": {
   "codemirror_mode": {
    "name": "ipython",
    "version": 3
   },
   "file_extension": ".py",
   "mimetype": "text/x-python",
   "name": "python",
   "nbconvert_exporter": "python",
   "pygments_lexer": "ipython3",
   "version": "3.6.4"
  }
 },
 "nbformat": 4,
 "nbformat_minor": 2
}
